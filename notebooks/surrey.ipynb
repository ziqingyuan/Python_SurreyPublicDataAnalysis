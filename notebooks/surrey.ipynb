{
 "cells": [
  {
   "cell_type": "code",
   "execution_count": null,
   "id": "5a696089-c1e0-4ebe-854e-d390a761024f",
   "metadata": {},
   "outputs": [],
   "source": [
    "import plotly.express as px\n",
    "import plotly.graph_objects as go\n",
    "import pandas as pd\n",
    "import json\n",
    "#import utm as utm\n",
    "\n",
    "#*********basic restaurant data\n",
    "restaurant = pd.read_csv(\"dataset/restaurants.csv\")\n",
    "\n",
    "# restaurant.dropna(\n",
    "#     axis=0,\n",
    "#     how='any',\n",
    "#     thresh=None,\n",
    "#     subset=None,\n",
    "#     inplace=True\n",
    "# )\n",
    "restaurant.dropna()\n",
    "\n",
    "color_scale = [(0, 'orange'), (1,'red')]\n",
    "\n",
    "fig = px.scatter_mapbox(restaurant, \n",
    "                        lat=\"LATITUDE\", \n",
    "                        lon=\"LONGITUDE\", \n",
    "                        hover_name=\"NAME\", \n",
    "                        hover_data=[\"PHYSICALADDRESS\", \"PHYSICALCITY\"],\n",
    "                        # color=\"Listed\",\n",
    "                        # color_continuous_scale=color_scale,\n",
    "                        zoom=9, \n",
    "                        height=300)\n",
    "\n",
    "\n",
    "# fig = go.Figure(go.Scattermapbox())\n",
    "\n",
    "#lat_lon = utm.to_latlon(508009.1730000004, 5446008.925249999, 10, 'U')\n",
    "#print(lat_lon)\n",
    "\n",
    "# fig = px.scatter_mapbox(restaurant, lat=\"Lat\", lon=\"Long\", hover_name=\"Address\", hover_data=[\"Address\", \"Listed\"],\n",
    "#                         color_discrete_sequence=[\"fuchsia\"], zoom=3, height=300)\n",
    "\n",
    "\n",
    "fig.update_layout(mapbox_style=\"open-street-map\")\n",
    "fig.update_layout(margin={\"r\":0,\"t\":0,\"l\":0,\"b\":0})\n",
    "fig.show()"
   ]
  },
  {
   "cell_type": "code",
   "execution_count": null,
   "id": "b98ac4da-02fc-4cc4-9d27-80152619f9aa",
   "metadata": {},
   "outputs": [],
   "source": [
    "import json\n",
    "from types import SimpleNamespace\n",
    "#*********basic transit data\n",
    "#transit_json = open('dataset/transit.json')\n",
    "\n",
    "with open('dataset/transit.json') as your_file:\n",
    "    your_dict = json.load(your_file)\n",
    "    your_file.seek(0)\n",
    "    your_root = json.load(your_file, object_hook= lambda x: \n",
    "                                        SimpleNamespace(**x))\n",
    "type(your_root[2])\n",
    "# transit = json.load(transit_json)\n",
    "# for i in transit[2]:\n",
    "#     print(i)"
   ]
  },
  {
   "cell_type": "code",
   "execution_count": null,
   "id": "521cc528-d222-464f-b0c0-3938a62c3fff",
   "metadata": {},
   "outputs": [],
   "source": [
    "from pyproj import Transformer, Proj, transform\n",
    "WGS84 = Proj(init='EPSG:4326')\n",
    "p = Proj(init='EPSG:26910')\n",
    "#utm\n",
    "x,y,z = 502562.2479999997, 5447647.1559999995, 0\n",
    "lat, lon = transform(p, WGS84, x, y)\n",
    "print(lat, lon)"
   ]
  },
  {
   "cell_type": "code",
   "execution_count": 1,
   "id": "a19a94c8-3f45-4ab1-801a-13ad86521a2b",
   "metadata": {},
   "outputs": [
    {
     "name": "stdout",
     "output_type": "stream",
     "text": [
      "Stop 1:\n",
      "id: 59741\n",
      "x: 502265.75100000016\n",
      "y: 5450336.422\n",
      "location: BURNABY\n",
      "----------------\n",
      "Stop 2:\n",
      "id: 55179\n",
      "x: 502646.13989999983\n",
      "y: 5437429.9046\n",
      "location: DELTA\n",
      "----------------\n",
      "Stop 3:\n",
      "id: 54877\n",
      "x: 502761.76400000043\n",
      "y: 5437393.789999999\n",
      "location: DELTA\n",
      "----------------\n",
      "Stop 4:\n",
      "id: 52367\n",
      "x: 502562.2479999997\n",
      "y: 5447647.1559999995\n",
      "location: RICHMOND\n",
      "----------------\n",
      "Stop 5:\n",
      "id: 52771\n",
      "x: 503023.61400000006\n",
      "y: 5451020.790999999\n",
      "location: BURNABY\n",
      "----------------\n"
     ]
    }
   ],
   "source": [
    "from scripts.model import TransitStopRaw\n",
    "from scripts.data_processing import parse_to_raw_stop_data\n",
    "\n",
    "transit_stop_array = []\n",
    "\n",
    "parse_to_raw_stop_data(transit_stop_array)\n",
    "\n",
    "\n",
    "\n",
    "for i in range(5):\n",
    "    transitStopEle = transit_stop_array[i]\n",
    "    print(f\"Stop {i+1}:\")\n",
    "    print(f\"id: {transitStopEle.id}\")\n",
    "    print(f\"x: {transitStopEle.x}\")\n",
    "    print(f\"y: {transitStopEle.y}\")\n",
    "    print(f\"location: {transitStopEle.location}\")\n",
    "    print(\"----------------\")\n"
   ]
  },
  {
   "cell_type": "code",
   "execution_count": null,
   "id": "187849fc-fda8-4dbc-8198-ca77a1ae7a67",
   "metadata": {},
   "outputs": [],
   "source": []
  },
  {
   "cell_type": "code",
   "execution_count": null,
   "outputs": [],
   "source": [],
   "metadata": {
    "collapsed": false
   }
  }
 ],
 "metadata": {
  "kernelspec": {
   "display_name": "Python 3 (ipykernel)",
   "language": "python",
   "name": "python3"
  },
  "language_info": {
   "codemirror_mode": {
    "name": "ipython",
    "version": 3
   },
   "file_extension": ".py",
   "mimetype": "text/x-python",
   "name": "python",
   "nbconvert_exporter": "python",
   "pygments_lexer": "ipython3",
   "version": "3.10.8"
  }
 },
 "nbformat": 4,
 "nbformat_minor": 5
}
