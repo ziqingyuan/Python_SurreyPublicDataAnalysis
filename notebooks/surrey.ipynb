{
 "cells": [
  {
   "cell_type": "code",
   "execution_count": null,
   "id": "5a696089-c1e0-4ebe-854e-d390a761024f",
   "metadata": {
    "pycharm": {
     "is_executing": true
    }
   },
   "outputs": [],
   "source": [
    "import plotly.express as px\n",
    "import plotly.graph_objects as go\n",
    "import pandas as pd\n",
    "import json\n",
    "#import utm as utm\n",
    "\n",
    "#*********basic restaurant data\n",
    "restaurant = pd.read_csv(\"restaurants.csv\")\n",
    "\n",
    "# restaurant.dropna(\n",
    "#     axis=0,\n",
    "#     how='any',\n",
    "#     thresh=None,\n",
    "#     subset=None,\n",
    "#     inplace=True\n",
    "# )\n",
    "restaurant.dropna()\n",
    "\n",
    "color_scale = [(0, 'orange'), (1,'red')]\n",
    "\n",
    "fig = px.scatter_mapbox(restaurant, \n",
    "                        lat=\"LATITUDE\", \n",
    "                        lon=\"LONGITUDE\", \n",
    "                        hover_name=\"NAME\", \n",
    "                        hover_data=[\"PHYSICALADDRESS\", \"PHYSICALCITY\"],\n",
    "                        # color=\"Listed\",\n",
    "                        # color_continuous_scale=color_scale,\n",
    "                        zoom=9, \n",
    "                        height=300)\n",
    "\n",
    "\n",
    "# fig = go.Figure(go.Scattermapbox())\n",
    "\n",
    "#lat_lon = utm.to_latlon(508009.1730000004, 5446008.925249999, 10, 'U')\n",
    "#print(lat_lon)\n",
    "\n",
    "# fig = px.scatter_mapbox(restaurant, lat=\"Lat\", lon=\"Long\", hover_name=\"Address\", hover_data=[\"Address\", \"Listed\"],\n",
    "#                         color_discrete_sequence=[\"fuchsia\"], zoom=3, height=300)\n",
    "\n",
    "\n",
    "fig.update_layout(mapbox_style=\"open-street-map\")\n",
    "fig.update_layout(margin={\"r\":0,\"t\":0,\"l\":0,\"b\":0})\n",
    "fig.show()"
   ]
  },
  {
   "cell_type": "code",
   "execution_count": null,
   "id": "b98ac4da-02fc-4cc4-9d27-80152619f9aa",
   "metadata": {},
   "outputs": [],
   "source": [
    "import json\n",
    "from types import SimpleNamespace\n",
    "#*********basic transit data\n",
    "#transit_json = open('dataset/transit.json')\n",
    "\n",
    "with open('dataset/transit.json') as your_file:\n",
    "    your_dict = json.load(your_file)\n",
    "    your_file.seek(0)\n",
    "    your_root = json.load(your_file, object_hook= lambda x: \n",
    "                                        SimpleNamespace(**x))\n",
    "type(your_root[2])\n",
    "# transit = json.load(transit_json)\n",
    "# for i in transit[2]:\n",
    "#     print(i)"
   ]
  },
  {
   "cell_type": "code",
   "execution_count": null,
   "id": "a19a94c8-3f45-4ab1-801a-13ad86521a2b",
   "metadata": {},
   "outputs": [],
   "source": [
    "from scripts.model import TransitStopRaw\n",
    "from scripts.data_processing import parse_to_raw_stop_data, convert_to_latlon\n",
    "\n",
    "transit_stop_array_raw = []\n",
    "\n",
    "parse_to_raw_stop_data(transit_stop_array_raw)\n",
    "\n",
    "transit_stop_array = []\n",
    "lat_array = []\n",
    "lon_array = []\n",
    "\n",
    "convert_to_latlon(transit_stop_array_raw, transit_stop_array, lat_array, lon_array)\n",
    "\n",
    "\n",
    "for i in range(5):\n",
    "    transitStopEle = transit_stop_array[i]\n",
    "    print(f\"Stop {i+1}:\")\n",
    "    print(f\"id: {transitStopEle.id}\")\n",
    "    print(f\"lat: {transitStopEle.lat}\")\n",
    "    print(f\"lon: {transitStopEle.lon}\")\n",
    "    print(f\"location: {transitStopEle.location}\")\n",
    "    print(f\"lonarr_ele_: {lon_array[i]}\")\n",
    "    print(f\"latarr_ele_: {lat_array[i]}\")\n",
    "    print(\"----------------\")\n",
    "\n"
   ]
  },
  {
   "cell_type": "code",
   "execution_count": null,
   "outputs": [],
   "source": [
    "import geopandas as gpd\n",
    "from shapely.geometry import Point\n",
    "\n",
    "import pandas as pd\n",
    "import numpy as np\n",
    "\n",
    "df1 = gpd.GeoDataFrame(\n",
    "    {'geometry': [Point(xy) for xy in zip(lon_array, lat_array)]},\n",
    "    crs=\"EPSG:4326\")\n",
    "df2 = gpd.GeoDataFrame(\n",
    "    {'geometry': [Point(xy) for xy in zip(lon_array, lat_array)]},\n",
    "    crs=\"EPSG:4326\")\n",
    "\n",
    "df1['x'] = df1.geometry.x\n",
    "df1['y'] = df1.geometry.y\n",
    "df2['x'] = df2.geometry.x\n",
    "df2['y'] = df2.geometry.y\n",
    "\n",
    "# Merge the two GeoDataFrames on the x and y columns\n",
    "merged = pd.merge(df1[['x', 'y']], df2[['x', 'y']], on=['x', 'y'])\n",
    "\n",
    "# Calculate the correlation between the two sets of coordinates\n",
    "correlation = np.corrcoef(merged.x, merged.y)[0, 1]\n",
    "print(f\"The correlation between the two GeoDataFrames is: {correlation}\")\n",
    "#\n",
    "# df1.to_file(\"../data/processed/data.shp\", driver=\"ESRI Shapefile\")\n",
    "\n",
    "# w = ps.weights.Queen.from_dataframe(df1)\n",
    "# cij = ps_explore.spatial_covariance(df1['geometry'], df2['geometry'], w, transform='r')\n",
    "\n",
    "# ps_explore.plot_cis(cij)\n",
    "\n"
   ],
   "metadata": {
    "collapsed": false
   }
  },
  {
   "cell_type": "code",
   "execution_count": null,
   "outputs": [],
   "source": [],
   "metadata": {
    "collapsed": false
   }
  }
 ],
 "metadata": {
  "kernelspec": {
   "display_name": "Python 3 (ipykernel)",
   "language": "python",
   "name": "python3"
  },
  "language_info": {
   "codemirror_mode": {
    "name": "ipython",
    "version": 3
   },
   "file_extension": ".py",
   "mimetype": "text/x-python",
   "name": "python",
   "nbconvert_exporter": "python",
   "pygments_lexer": "ipython3",
   "version": "3.10.8"
  }
 },
 "nbformat": 4,
 "nbformat_minor": 5
}
